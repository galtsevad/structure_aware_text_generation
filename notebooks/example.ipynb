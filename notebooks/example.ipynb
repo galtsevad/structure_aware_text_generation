{
 "cells": [
  {
   "cell_type": "code",
   "execution_count": null,
   "metadata": {
    "colab": {
     "base_uri": "https://localhost:8080/"
    },
    "id": "HOJttxTXT-Rh",
    "outputId": "c79b3ba6-0836-418a-96a1-e9d6efa326c3"
   },
   "outputs": [
    {
     "data": {
      "text/plain": [
       "['If the president in question was anyone else, the suggestion from a prominent supporter, Jerry Falwell Jr., that he was owed an extension of his term as reparations for the Mueller investigation could be dismissed as mere rhetorical excess combined with an effort to taunt liberals for their interest in reparations for the descendants of slaves.',\n",
       " 'But because Donald Trump has repeatedly fanned claims that he regards anything that gets in his way say, an adverse 2020 election as an extra-constitutional coup, its not so easy to laugh this off: The president retweeted this little stink bomb and added his own pithy characterization of the investigation his own administration began: Mueller aside, Trump has often defended his own chronic assaults on the rule of law by accusing those seeking to restrain him, via lawsuits, congressional investigations, or the constitutionally sanctioned method of impeachment, of defying democratic norms by trying to reverse the results of the 2016 election.',\n",
       " 'And having set a precedent for his own defiance of election results by claiming with zero evidence that millions of illegal votes were cast for Hillary Clinton in 2016, Trump echoed Republican allegations (made, again, without evidence) that the GOPs midterm losses, especially in California, were the result of election fraud: All in all, its not surprising that House Speaker Nancy Pelosi fears anything other that a decisive defeat of Trump in 2020 could lead to a contested election that the incumbent wont accept unless it keeps him in office, as the New York Times reports: Pelosi, like Bernie Sanders, is said to consider impeachment as a distraction from the focused, issue-oriented efforts Democrats need to undertake to beat Trump in 2020.',\n",
       " 'But there may be another factor in the back of her mind discouraging the path of impeachment: It would surely be described as a slow-motion coup by Trump and his allies, justifying any counter-measures he chooses.',\n",
       " 'The president is already setting the table for his line of attack:',\n",
       " 'Its a wonderfully circular argument: In accusing him of high crimes and misdemeanors, Democrats are violating democratic norms so egregiously that the only way to restore them might be a countercoup of his own.',\n",
       " 'Its a time-worn rationale for authoritarian measures aimed at saving constitutional regimes they overthrow.',\n",
       " 'And even if Trump keeps hinting at it just to mess with the minds of his critics, the effect it has on sycophants like Jerry Falwell Jr. could be unfortunate.',\n",
       " 'The 2020 election could be delegitimized on the right before it even happens.']"
      ]
     },
     "execution_count": 11,
     "metadata": {},
     "output_type": "execute_result"
    }
   ],
   "source": [
    "from structure_aware_text_generation.structure_extractor import StructureExtractor, StructureSet\n",
    "from structure_aware_text_generation.generator import Generator\n",
    "from structure_aware_text_generation.evaluator import Evaluator\n",
    "import json\n",
    "\n",
    "with open('intelligencer_texts.json') as f:\n",
    "    texts = json.load(f)[:200]\n",
    "texts[2]"
   ]
  },
  {
   "cell_type": "markdown",
   "metadata": {
    "id": "IcQsMCB_30Io"
   },
   "source": [
    "#### Извлечение структур"
   ]
  },
  {
   "cell_type": "code",
   "execution_count": null,
   "metadata": {
    "colab": {
     "base_uri": "https://localhost:8080/"
    },
    "id": "0oOPTgJf112E",
    "outputId": "c48d64ee-4fb9-4f37-a0ee-9ccf1f77f5ef",
    "scrolled": true
   },
   "outputs": [
    {
     "name": "stderr",
     "output_type": "stream",
     "text": [
      "100%|██████████| 200/200 [00:15<00:00, 13.03it/s]\n",
      "100%|██████████| 15/15 [00:21<00:00,  1.45s/it]\n"
     ]
    },
    {
     "data": {
      "text/plain": [
       "{'0': [{'count': 8, 'struct': [0, 0, 0]},\n",
       "  {'count': 8, 'struct': [0, 6, 16]},\n",
       "  {'count': 7, 'struct': [0, 3, 0]},\n",
       "  {'count': 7, 'struct': [0, 6, 6]},\n",
       "  {'count': 6, 'struct': [0, 16, 16]}],\n",
       " '1': [{'count': 69, 'struct': [1, 1, 1]},\n",
       "  {'count': 10, 'struct': [1, 13, 1]},\n",
       "  {'count': 9, 'struct': [1, 6, 1]},\n",
       "  {'count': 9, 'struct': [1, 1, 17]},\n",
       "  {'count': 9, 'struct': [1, 1, 6]}],\n",
       " '10': [{'count': 18, 'struct': [10, 10, 10]},\n",
       "  {'count': 8, 'struct': [10, 13, 13]},\n",
       "  {'count': 6, 'struct': [10, 10, 17]},\n",
       "  {'count': 5, 'struct': [10, 3, 3]},\n",
       "  {'count': 5, 'struct': [10, 17, 10]}],\n",
       " '11': [{'count': 3, 'struct': [11, 3, 11]},\n",
       "  {'count': 46, 'struct': [11, 11, 11]},\n",
       "  {'count': 3, 'struct': [11, 11, 17]},\n",
       "  {'count': 3, 'struct': [11, 17, 11]},\n",
       "  {'count': 3, 'struct': [11, 19, 12]}],\n",
       " '12': [{'count': 31, 'struct': [12, 12, 12]},\n",
       "  {'count': 11, 'struct': [12, 19, 12]},\n",
       "  {'count': 8, 'struct': [12, 12, 19]},\n",
       "  {'count': 6, 'struct': [12, 17, 17]},\n",
       "  {'count': 5, 'struct': [12, 12, 6]}],\n",
       " '13': [{'count': 31, 'struct': [13, 13, 13]},\n",
       "  {'count': 12, 'struct': [13, 4, 13]},\n",
       "  {'count': 11, 'struct': [13, 13, 3]},\n",
       "  {'count': 8, 'struct': [13, 1, 1]},\n",
       "  {'count': 8, 'struct': [13, 4, 4]}],\n",
       " '14': [{'count': 7, 'struct': [14, 6, 14]},\n",
       "  {'count': 6, 'struct': [14, 6, 6]},\n",
       "  {'count': 6, 'struct': [14, 6, 16]},\n",
       "  {'count': 6, 'struct': [14, 8, 8]},\n",
       "  {'count': 5, 'struct': [14, 9, 8]}],\n",
       " '15': [{'count': 29, 'struct': [15, 15, 15]},\n",
       "  {'count': 15, 'struct': [15, 6, 6]},\n",
       "  {'count': 8, 'struct': [15, 15, 1]},\n",
       "  {'count': 8, 'struct': [15, 15, 17]},\n",
       "  {'count': 8, 'struct': [15, 15, 9]}],\n",
       " '16': [{'count': 39, 'struct': [16, 16, 16]},\n",
       "  {'count': 16, 'struct': [16, 6, 6]},\n",
       "  {'count': 12, 'struct': [16, 16, 6]},\n",
       "  {'count': 11, 'struct': [16, 8, 8]},\n",
       "  {'count': 9, 'struct': [16, 6, 16]}],\n",
       " '17': [{'count': 21, 'struct': [17, 17, 17]},\n",
       "  {'count': 15, 'struct': [17, 8, 8]},\n",
       "  {'count': 8, 'struct': [17, 9, 16]},\n",
       "  {'count': 6, 'struct': [17, 17, 12]},\n",
       "  {'count': 6, 'struct': [17, 9, 9]}],\n",
       " '18': [{'count': 58, 'struct': [18, 18, 18]},\n",
       "  {'count': 6, 'struct': [18, 3, 18]},\n",
       "  {'count': 5, 'struct': [18, 18, 19]},\n",
       "  {'count': 5, 'struct': [18, 18, 3]},\n",
       "  {'count': 4, 'struct': [18, 18, 12]}],\n",
       " '19': [{'count': 30, 'struct': [19, 19, 19]},\n",
       "  {'count': 8, 'struct': [19, 12, 12]},\n",
       "  {'count': 7, 'struct': [19, 19, 13]},\n",
       "  {'count': 6, 'struct': [19, 13, 19]},\n",
       "  {'count': 6, 'struct': [19, 19, 12]}],\n",
       " '2': [{'count': 23, 'struct': [2, 2, 2]},\n",
       "  {'count': 9, 'struct': [2, 16, 16]},\n",
       "  {'count': 7, 'struct': [2, 6, 6]},\n",
       "  {'count': 7, 'struct': [2, 2, 16]},\n",
       "  {'count': 6, 'struct': [2, 16, 6]}],\n",
       " '3': [{'count': 46, 'struct': [3, 3, 3]},\n",
       "  {'count': 12, 'struct': [3, 13, 13]},\n",
       "  {'count': 10, 'struct': [3, 8, 8]},\n",
       "  {'count': 10, 'struct': [3, 3, 13]},\n",
       "  {'count': 9, 'struct': [3, 0, 3]}],\n",
       " '4': [{'count': 15, 'struct': [4, 4, 4]},\n",
       "  {'count': 12, 'struct': [4, 13, 13]},\n",
       "  {'count': 12, 'struct': [4, 1, 1]},\n",
       "  {'count': 8, 'struct': [4, 13, 4]},\n",
       "  {'count': 8, 'struct': [4, 4, 2]}],\n",
       " '5': [{'count': 52, 'struct': [5, 5, 5]},\n",
       "  {'count': 8, 'struct': [5, 9, 5]},\n",
       "  {'count': 7, 'struct': [5, 9, 9]},\n",
       "  {'count': 7, 'struct': [5, 5, 9]},\n",
       "  {'count': 6, 'struct': [5, 5, 1]}],\n",
       " '6': [{'count': 80, 'struct': [6, 6, 6]},\n",
       "  {'count': 19, 'struct': [6, 16, 6]},\n",
       "  {'count': 16, 'struct': [6, 1, 1]},\n",
       "  {'count': 16, 'struct': [6, 6, 16]},\n",
       "  {'count': 15, 'struct': [6, 14, 6]}],\n",
       " '7': [{'count': 26, 'struct': [7, 7, 7]},\n",
       "  {'count': 14, 'struct': [7, 7, 6]},\n",
       "  {'count': 12, 'struct': [7, 6, 7]},\n",
       "  {'count': 8, 'struct': [7, 16, 7]},\n",
       "  {'count': 8, 'struct': [7, 6, 6]}],\n",
       " '8': [{'count': 119, 'struct': [8, 8, 8]},\n",
       "  {'count': 20, 'struct': [8, 8, 9]},\n",
       "  {'count': 18, 'struct': [8, 3, 8]},\n",
       "  {'count': 17, 'struct': [8, 8, 3]},\n",
       "  {'count': 15, 'struct': [8, 9, 8]}],\n",
       " '9': [{'count': 38, 'struct': [9, 9, 9]},\n",
       "  {'count': 17, 'struct': [9, 8, 8]},\n",
       "  {'count': 14, 'struct': [9, 16, 9]},\n",
       "  {'count': 12, 'struct': [9, 9, 8]},\n",
       "  {'count': 10, 'struct': [9, 5, 9]}]}"
      ]
     },
     "execution_count": 12,
     "metadata": {},
     "output_type": "execute_result"
    }
   ],
   "source": [
    "extractor = StructureExtractor()\n",
    "\n",
    "filtered_structure_set = extractor(texts, n = 3, max_per_theme_start=5, topics_number_range=(20, 50, 2))\n",
    "extracted_structures = filtered_structure_set.get_structures()\n",
    "extracted_structures"
   ]
  },
  {
   "cell_type": "markdown",
   "metadata": {
    "id": "4X-PmSBT4NND"
   },
   "source": [
    "#### Генерация"
   ]
  },
  {
   "cell_type": "code",
   "execution_count": null,
   "metadata": {
    "id": "x2gw6m7f4QH8"
   },
   "outputs": [],
   "source": [
    "from transformers import GPT2Tokenizer, GPT2PreTrainedModel, GPT2Model, AdamW, get_linear_schedule_with_warmup\n",
    "from transformers.modeling_outputs import CausalLMOutputWithCrossAttentions\n",
    "from sentence_transformers import SentenceTransformer\n",
    "from transformers import GPT2Tokenizer, GPT2PreTrainedModel, GPT2Model, GPT2LMHeadModel\n",
    "\n",
    "gpt2_tokenizer = GPT2Tokenizer.from_pretrained('gpt2')\n",
    "gpt2_model = GPT2LMHeadModel.from_pretrained('gpt2')\n",
    "model = SentenceTransformer('sentence-transformers/multi-qa-MiniLM-L6-cos-v1')\n",
    "\n",
    "generator = Generator(gpt2_model, gpt2_tokenizer, model)"
   ]
  },
  {
   "cell_type": "markdown",
   "metadata": {
    "id": "N0IXbsOA362L"
   },
   "source": [
    "**Пример генерации с опорой на вектор (генератор стремится приблизить вектор предложения к заданному)**"
   ]
  },
  {
   "cell_type": "code",
   "execution_count": null,
   "metadata": {
    "colab": {
     "base_uri": "https://localhost:8080/",
     "height": 35
    },
    "id": "c42mq-n834fn",
    "outputId": "469a02c5-a567-41fe-acb7-a049e2920dc3"
   },
   "outputs": [
    {
     "data": {
      "application/vnd.google.colaboratory.intrinsic+json": {
       "type": "string"
      },
      "text/plain": [
       "'This text seems somewhat appropriate -- though also not completely important here in these ways.\"'"
      ]
     },
     "execution_count": 33,
     "metadata": {},
     "output_type": "execute_result"
    }
   ],
   "source": [
    "sentence = 'This text is really simple.'\n",
    "vector = model.encode(sentence, convert_to_tensor=True)\n",
    "generated_text = generator.generate_with_vector('This text', vector)\n",
    "generated_text"
   ]
  },
  {
   "cell_type": "code",
   "execution_count": null,
   "metadata": {
    "colab": {
     "base_uri": "https://localhost:8080/"
    },
    "id": "zPiN2c-a4_aG",
    "outputId": "07579cec-3155-46e0-e8f8-3708dc00fcb7"
   },
   "outputs": [
    {
     "data": {
      "text/plain": [
       "tensor(0.6642, device='cuda:0')"
      ]
     },
     "execution_count": 34,
     "metadata": {},
     "output_type": "execute_result"
    }
   ],
   "source": [
    "import torch\n",
    "\n",
    "cos = torch.nn.CosineSimilarity(dim=-1)\n",
    "cos(model.encode(generated_text, convert_to_tensor=True), vector)"
   ]
  },
  {
   "cell_type": "markdown",
   "metadata": {
    "id": "7J7zQ4qo8QuM"
   },
   "source": [
    "**Проведем такое же сравнение с простой генерацией**"
   ]
  },
  {
   "cell_type": "code",
   "execution_count": null,
   "metadata": {
    "colab": {
     "base_uri": "https://localhost:8080/",
     "height": 70
    },
    "id": "re03fnOb8WF9",
    "outputId": "962fdfd3-bfe4-482c-ed2a-3683dab9184b"
   },
   "outputs": [
    {
     "data": {
      "application/vnd.google.colaboratory.intrinsic+json": {
       "type": "string"
      },
      "text/plain": [
       "'This text provides guidance where most UMass researchers could put those methods into more sophisticated simulations—i-direction machines are particularly fast but do come much beyond 3MHz or 12 to 22 million digits on GACES\\'s TDS network[21e,32d–43].\"'"
      ]
     },
     "execution_count": 45,
     "metadata": {},
     "output_type": "execute_result"
    }
   ],
   "source": [
    "simple_generated_text = generator.simple_generate('This text')\n",
    "simple_generated_text"
   ]
  },
  {
   "cell_type": "code",
   "execution_count": null,
   "metadata": {
    "colab": {
     "base_uri": "https://localhost:8080/"
    },
    "id": "VMMFD0tc8gLl",
    "outputId": "9dd04a07-ac7f-47b9-b518-fccf7bba2027"
   },
   "outputs": [
    {
     "data": {
      "text/plain": [
       "tensor(0.0667, device='cuda:0')"
      ]
     },
     "execution_count": 46,
     "metadata": {},
     "output_type": "execute_result"
    }
   ],
   "source": [
    "cos(model.encode(simple_generated_text, convert_to_tensor=True), vector)"
   ]
  }
 ],
 "metadata": {
  "accelerator": "GPU",
  "colab": {
   "name": "example.ipynb",
   "provenance": []
  },
  "kernelspec": {
   "display_name": "Python 3",
   "language": "python",
   "name": "python3"
  },
  "language_info": {
   "codemirror_mode": {
    "name": "ipython",
    "version": 3
   },
   "file_extension": ".py",
   "mimetype": "text/x-python",
   "name": "python",
   "nbconvert_exporter": "python",
   "pygments_lexer": "ipython3",
   "version": "3.7.2"
  }
 },
 "nbformat": 4,
 "nbformat_minor": 4
}
